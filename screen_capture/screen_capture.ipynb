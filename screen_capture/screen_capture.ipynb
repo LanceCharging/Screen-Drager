{
 "cells": [
  {
   "cell_type": "markdown",
   "metadata": {},
   "source": [
    "<button id=\"captureBtn\">Capture Area</button>\n",
    "<canvas id=\"captureCanvas\" width=\"300\" height=\"200\"></canvas>\n",
    "\n",
    "<script>\n",
    "var canvas = document.getElementById('captureCanvas');\n",
    "var ctx = canvas.getContext('2d');\n",
    "var isDrawing = false;\n",
    "var startX, startY, endX, endY;\n",
    "\n",
    "canvas.addEventListener('mousedown', function(event) {\n",
    "    isDrawing = true;\n",
    "    startX = event.clientX;\n",
    "    startY = event.clientY;\n",
    "    ctx.clearRect(0, 0, canvas.width, canvas.height);\n",
    "});\n",
    "\n",
    "canvas.addEventListener('mousemove', function(event) {\n",
    "    if (!isDrawing) return;\n",
    "    endX = event.clientX;\n",
    "    endY = event.clientY;\n",
    "    ctx.clearRect(0, 0, canvas.width, canvas.height);\n",
    "    ctx.strokeStyle = 'blue';\n",
    "    ctx.lineWidth = 2;\n",
    "    ctx.strokeRect(startX, startY, endX - startX, endY - startY);\n",
    "});\n",
    "\n",
    "canvas.addEventListener('mouseup', function() {\n",
    "    isDrawing = false;\n",
    "    var capturedImage = new Image();\n",
    "    capturedImage.onload = function() {\n",
    "        ctx.drawImage(capturedImage, startX, startY, endX - startX, endY - startY, 0, 0, canvas.width, canvas.height);\n",
    "    };\n",
    "    capturedImage.src = canvas.toDataURL();\n",
    "});\n",
    "</script>\n",
    "\n"
   ]
  }
 ],
 "metadata": {
  "language_info": {
   "name": "python"
  },
  "orig_nbformat": 4
 },
 "nbformat": 4,
 "nbformat_minor": 2
}
