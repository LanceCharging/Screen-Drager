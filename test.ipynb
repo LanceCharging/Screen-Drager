{
 "cells": [
  {
   "cell_type": "code",
   "execution_count": null,
   "metadata": {},
   "outputs": [],
   "source": [
    "    chrome.scripting.executeScript({\n",
    "      target: { tabId: currentTabId, allFrames: true },\n",
    "      files: [\"scripts/drag.js\"],\n",
    "    });"
   ]
  },
  {
   "cell_type": "code",
   "execution_count": null,
   "metadata": {},
   "outputs": [],
   "source": [
    "let X1, Y1, X2, Y2;\n",
    "document.addEventListener(\"mousedown\", (e) => {\n",
    "  X1 = e.clientX;\n",
    "  Y1 = e.clientY;\n",
    "});\n",
    "document.addEventListener(\"mouseup\", (e) => {\n",
    "  X2 = e.clientX;\n",
    "  Y2 = e.clientY;\n",
    "});\n",
    "\n",
    "const image = new Image();\n",
    "image.src = d_url;\n",
    "\n",
    "const canvas = document.createElement(\"canvas\");\n",
    "canvas.width = Math.abs(X2 - X1);\n",
    "canvas.height = Math.abs(Y2 - Y1);\n",
    "\n",
    "const context = canvas.getContext(\"2d\");\n",
    "context.drawImage(\n",
    "  image,\n",
    "  X1,\n",
    "  Y1,\n",
    "  canvas.width,\n",
    "  canvas.height,\n",
    "  0,\n",
    "  0,\n",
    "  canvas.width,\n",
    "  canvas.height\n",
    ");\n",
    "\n",
    "const croppedDataUrl = canvas.toDataURL(\"image/png\");\n",
    "chrome.tabs.create({ url: croppedDataUrl });"
   ]
  }
 ],
 "metadata": {
  "language_info": {
   "name": "python"
  },
  "orig_nbformat": 4
 },
 "nbformat": 4,
 "nbformat_minor": 2
}
