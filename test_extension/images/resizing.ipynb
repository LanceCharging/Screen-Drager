{
 "cells": [
  {
   "cell_type": "code",
   "execution_count": 1,
   "metadata": {},
   "outputs": [],
   "source": [
    "from PIL import Image\n",
    "\n",
    "INPUT_IMAGE_PATH = \"임시.png\"\n",
    "\n",
    "\n",
    "def resize_image(intput_path, output_path, new_width, new_height):\n",
    "    original_image = Image.open(intput_path)\n",
    "    resized_image = original_image.resize((new_width, new_height), Image.ANTIALIAS)\n",
    "    resized_image.save(output_path)\n"
   ]
  },
  {
   "cell_type": "code",
   "execution_count": 2,
   "metadata": {},
   "outputs": [
    {
     "name": "stderr",
     "output_type": "stream",
     "text": [
      "C:\\Users\\crypt\\AppData\\Local\\Temp\\ipykernel_13580\\3792210759.py:8: DeprecationWarning: ANTIALIAS is deprecated and will be removed in Pillow 10 (2023-07-01). Use LANCZOS or Resampling.LANCZOS instead.\n",
      "  resized_image = original_image.resize((new_width, new_height), Image.ANTIALIAS)\n"
     ]
    }
   ],
   "source": [
    "resize_image(INPUT_IMAGE_PATH, '임시16.png', 16, 16)\n",
    "resize_image(INPUT_IMAGE_PATH, '임시32.png', 32, 32)\n",
    "resize_image(INPUT_IMAGE_PATH, '임시48.png', 48, 48)\n",
    "resize_image(INPUT_IMAGE_PATH, '임시128.png', 128, 128)"
   ]
  }
 ],
 "metadata": {
  "kernelspec": {
   "display_name": "Python 3",
   "language": "python",
   "name": "python3"
  },
  "language_info": {
   "codemirror_mode": {
    "name": "ipython",
    "version": 3
   },
   "file_extension": ".py",
   "mimetype": "text/x-python",
   "name": "python",
   "nbconvert_exporter": "python",
   "pygments_lexer": "ipython3",
   "version": "3.11.2"
  },
  "orig_nbformat": 4
 },
 "nbformat": 4,
 "nbformat_minor": 2
}
